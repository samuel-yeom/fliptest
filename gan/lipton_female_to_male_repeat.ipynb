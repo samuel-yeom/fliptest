{
 "cells": [
  {
   "cell_type": "code",
   "execution_count": 1,
   "metadata": {},
   "outputs": [],
   "source": [
    "from __future__ import print_function, division\n",
    "\n",
    "import numpy as np\n",
    "import matplotlib.pyplot as plt\n",
    "import warnings\n",
    "import tensorflow as tf\n",
    "\n",
    "#Prevent TensorFlow from taking up all of GPU memory\n",
    "gpus = tf.config.experimental.list_physical_devices('GPU')\n",
    "for gpu in gpus:\n",
    "    tf.config.experimental.set_memory_growth(gpu, True)\n",
    "\n",
    "warnings.simplefilter('ignore', UserWarning)\n",
    "\n",
    "from util import *"
   ]
  },
  {
   "cell_type": "code",
   "execution_count": 2,
   "metadata": {},
   "outputs": [],
   "source": [
    "data_dim = 2\n",
    "data_size = 10000\n",
    "\n",
    "X2, X1, y2, y1, columns = generate_lipton(scale=True, num_pts=data_size)\n",
    "name1 = 'women'\n",
    "name2 = 'men'"
   ]
  },
  {
   "cell_type": "markdown",
   "metadata": {},
   "source": [
    "# Kolmogorov–Smirnov test"
   ]
  },
  {
   "cell_type": "code",
   "execution_count": 3,
   "metadata": {},
   "outputs": [
    {
     "name": "stdout",
     "output_type": "stream",
     "text": [
      "GAN #1\n",
      "GAN #2\n",
      "GAN #3\n",
      "GAN #4\n",
      "GAN #5\n",
      "GAN #6\n",
      "GAN #7\n",
      "GAN #8\n",
      "GAN #9\n",
      "GAN #10\n",
      "[0.0515 0.0461 0.0679 0.0521 0.055  0.0378 0.0492 0.0629 0.0375 0.0641] 0.052410000000000026 0.00990024747165444\n",
      "[0.0238 0.0092 0.0247 0.0183 0.0366 0.0838 0.045  0.0674 0.0493 0.0729] 0.04310000000000001 0.02386340294258137\n"
     ]
    }
   ],
   "source": [
    "from scipy.stats import ks_2samp as ks\n",
    "\n",
    "warnings.simplefilter('ignore', UserWarning)\n",
    "\n",
    "lambda_l1 = 1e-4\n",
    "ks_work_exp = []\n",
    "ks_hair_len = []\n",
    "fakes = []\n",
    "\n",
    "for i in range(10):\n",
    "    print('GAN #{}'.format(i+1))\n",
    "    D, G, combined = create_gan_small(data_dim, trans_loss_func=squared_l1_loss, trans_loss_wt=lambda_l1)\n",
    "    train(D, G, combined, X1, X2, name1, name2, plot_progress=False)\n",
    "    X_fake2 = G.predict(X1)\n",
    "    fakes.append(X_fake2)\n",
    "    ks_work_exp.append(ks(X2[:,0], X_fake2[:,0]).statistic)\n",
    "    ks_hair_len.append(ks(X2[:,1], X_fake2[:,1]).statistic)\n",
    "\n",
    "ks_work_exp = np.array(ks_work_exp)\n",
    "ks_hair_len = np.array(ks_hair_len)\n",
    "print(ks_work_exp, ks_work_exp.mean(), ks_work_exp.std())\n",
    "print(ks_hair_len, ks_hair_len.mean(), ks_hair_len.std())"
   ]
  },
  {
   "cell_type": "markdown",
   "metadata": {},
   "source": [
    "# Mean Squared Error"
   ]
  },
  {
   "cell_type": "code",
   "execution_count": 4,
   "metadata": {},
   "outputs": [
    {
     "name": "stdout",
     "output_type": "stream",
     "text": [
      "work_exp MSE on real: 2.010543298177521\n",
      "hair_len MSE on real: 0.3305221132230612\n",
      "[1.86572853 1.8547777  1.8785402  1.80400211 1.69368272 1.85677528\n",
      " 1.90254464 1.8043894  1.90357428 1.88197615] 1.8445991016343313 0.06010308303578143\n",
      "[0.34198437 0.33678067 0.34249321 0.34243129 0.36220409 0.31056555\n",
      " 0.37430472 0.30450019 0.32173123 0.33662457] 0.3373619886445253 0.02024459886773657\n"
     ]
    }
   ],
   "source": [
    "from sklearn.linear_model import LinearRegression\n",
    "from sklearn.model_selection import train_test_split\n",
    "from sklearn.metrics import mean_squared_error as mse\n",
    "\n",
    "X2_train, X2_test = train_test_split(X2, train_size=0.5, test_size=0.5)\n",
    "lr_work_exp = LinearRegression().fit(X2_train[:,1:2], X2_train[:,0]) #predict work_exp from hair_len\n",
    "lr_hair_len = LinearRegression().fit(X2_train[:,0:1], X2_train[:,1]) #predict hair_len from work_exp\n",
    "\n",
    "print('work_exp MSE on real: {}'.format(mse(X2_test[:,0], lr_hair_len.predict(X2_test[:,1:2]))))\n",
    "print('hair_len MSE on real: {}'.format(mse(X2_test[:,1], lr_hair_len.predict(X2_test[:,0:1]))))\n",
    "\n",
    "mse_work_exp = []\n",
    "mse_hair_len = []\n",
    "for X_fake2 in fakes:\n",
    "    mse_work_exp.append(mse(X_fake2[:,0], lr_hair_len.predict(X_fake2[:,1:2])))\n",
    "    mse_hair_len.append(mse(X_fake2[:,1], lr_hair_len.predict(X_fake2[:,0:1])))\n",
    "mse_work_exp = np.array(mse_work_exp)\n",
    "mse_hair_len = np.array(mse_hair_len)\n",
    "print(mse_work_exp, mse_work_exp.mean(), mse_work_exp.std())\n",
    "print(mse_hair_len, mse_hair_len.mean(), mse_hair_len.std())"
   ]
  },
  {
   "cell_type": "code",
   "execution_count": null,
   "metadata": {},
   "outputs": [],
   "source": []
  }
 ],
 "metadata": {
  "kernelspec": {
   "display_name": "Python 3",
   "language": "python",
   "name": "python3"
  },
  "language_info": {
   "codemirror_mode": {
    "name": "ipython",
    "version": 3
   },
   "file_extension": ".py",
   "mimetype": "text/x-python",
   "name": "python",
   "nbconvert_exporter": "python",
   "pygments_lexer": "ipython3",
   "version": "3.7.3"
  }
 },
 "nbformat": 4,
 "nbformat_minor": 2
}
